{
 "cells": [
  {
   "cell_type": "markdown",
   "metadata": {},
   "source": [
    "#### We'll be working on object oriented programming, first create an Class named OperatingLists then add the methods on the following challenges to your class"
   ]
  },
  {
   "cell_type": "code",
   "execution_count": 12,
   "metadata": {},
   "outputs": [],
   "source": [
    "class OperatingLists:\n",
    "\n",
    "    def __init__(self):\n",
    "        self=self\n",
    "\n",
    "    #def remove(self, your variables):\n",
    "        #You will put the function from challenge 1 in here\n",
    "               \n",
    "    \n",
    "    #def count_spec_digits(self, your variables):\n",
    "        #You will put the function from challenge 2 in here\n",
    "               \n",
    "    \n",
    "    #def ordered_count(self, your variables):\n",
    "        #You will put the function from challenge 3 in here"
   ]
  },
  {
   "cell_type": "markdown",
   "metadata": {},
   "source": [
    "# Challenge 1\n",
    "Define a method that removes from a given list of integers all the values contained in a second list."
   ]
  },
  {
   "cell_type": "code",
   "execution_count": 13,
   "metadata": {},
   "outputs": [],
   "source": [
    "# Once your code is working you should be abble to run the following code :\n",
    "\n",
    "#Create an object that belongs to the class you created in the previous cell\n",
    "#l = OperatingLists()\n",
    "\n",
    "#first_list =  [1, 1, 2 ,3 ,1 ,2 ,3 ,4]\n",
    "#second_list = [1, 3]\n",
    "#l.remove(first_list, second_list) == [2, 2, 4]\n",
    "\n",
    "#third_list = [1, 1, 2 ,3 ,1 ,2 ,3 ,4, 4, 3 ,5, 6, 7, 2, 8]\n",
    "#fourth_list= [1, 3, 4, 2]\n",
    "#l.remove(third_list, fourth_list ) == [5, 6 ,7 ,8]\n",
    "\n",
    "#fifth_list = [8, 2, 7, 2, 3, 4, 6, 5, 4, 4, 1, 2 , 3]\n",
    "#sixth_list = [2, 4, 3]\n",
    "#l.remove(fifth_list, sixth_list) == [8, 7, 6, 5, 1]"
   ]
  },
  {
   "cell_type": "markdown",
   "metadata": {},
   "source": [
    "# Challenge 2\n",
    "#### We need a method in the IntegralList Class that may count specific digits from a given list of integers. This marked digits will be given in a second list. \n",
    "#### The method will accept two arguments, a list of an uncertain amount of integers and a second list, that has the specific digits to count which length cannot be be longer than 10 (We've got ten digits).\n",
    "#### The method will output a list of tuples, each tuple having two elements, the first one will be a digit to count, and second one, its corresponding total frequency in all the integers of the first list.\n",
    "#### This list of tuples should be ordered with the same order that the digits have in the second list"
   ]
  },
  {
   "cell_type": "code",
   "execution_count": 14,
   "metadata": {},
   "outputs": [],
   "source": [
    "# Once your code is working you should be abble to run the following code :\n",
    "\n",
    "#Create an object that belongs to the class you created in the previous cell\n",
    "#l = OperatingLists()\n",
    "\n",
    "#first_list =  [1, 1, 2 ,3 ,1 ,2 ,3 ,4]\n",
    "#second_list = [1, 3]\n",
    "#l.count_spec_digits(first_list, second_list) == [(1, 3), (3, 2)]\n",
    "\n",
    "#first_list = [-18, -31, 81, -19, 111, -888]\n",
    "#second_list = [1, 8, 4]\n",
    "#l.count_spec_digits(first_list, second_list) == [(1, 7), (8, 5), (4, 0)]\n",
    "\n",
    "#first_list = [-77, -65, 56, -79, 6666, 222]\n",
    "#second_list = [1, 8, 4]\n",
    "#l.count_spec_digits(first_list, second_list) == [(1, 0), (8, 0), (4, 0)]"
   ]
  },
  {
   "cell_type": "markdown",
   "metadata": {},
   "source": [
    "# Challenge 3\n",
    "#### Create a method that counts the number of occurrences of each character and return it as a list of tuples in order of appearance."
   ]
  },
  {
   "cell_type": "code",
   "execution_count": null,
   "metadata": {},
   "outputs": [],
   "source": [
    "# Once your code is working you should be abble to run the following code :\n",
    "\n",
    "#Create an object that belongs to the class you created in the previous cell\n",
    "#l = OperatingLists()\n",
    "\n",
    "#l.ordered_count(\"abracadabra\") == [('a', 5), ('b', 2), ('r', 2), ('c', 1), ('d', 1)]"
   ]
  }
 ],
 "metadata": {
  "kernelspec": {
   "display_name": "Python 3",
   "language": "python",
   "name": "python3"
  },
  "language_info": {
   "codemirror_mode": {
    "name": "ipython",
    "version": 3
   },
   "file_extension": ".py",
   "mimetype": "text/x-python",
   "name": "python",
   "nbconvert_exporter": "python",
   "pygments_lexer": "ipython3",
   "version": "3.7.3"
  }
 },
 "nbformat": 4,
 "nbformat_minor": 2
}
